{
 "cells": [
  {
   "cell_type": "code",
   "execution_count": 2,
   "id": "6e84a83e",
   "metadata": {},
   "outputs": [
    {
     "name": "stdout",
     "output_type": "stream",
     "text": [
      "SHA-256 hash: fe04a68fb5624f91cc0c29ec00a7f5eb5811498c73f6e278774623602964e4d0\n"
     ]
    }
   ],
   "source": [
    "import hashlib\n",
    "\n",
    "# File path of the model or data\n",
    "file_path = \"../models/model.pt\"\n",
    "\n",
    "# Compute SHA-256 hash\n",
    "with open(file_path, \"rb\") as f:\n",
    "    data = f.read()\n",
    "    hash_value = hashlib.sha256(data).hexdigest()\n",
    "\n",
    "print(f\"SHA-256 hash: {hash_value}\")\n"
   ]
  },
  {
   "cell_type": "code",
   "execution_count": 3,
   "id": "50e4e878",
   "metadata": {},
   "outputs": [
    {
     "name": "stdout",
     "output_type": "stream",
     "text": [
      "SHA-256 hash: 7e54ccdc2ec2b562b58c518d5e0ef54078b5cfbd55f5acb2a99c9cb8132f1d86\n"
     ]
    }
   ],
   "source": [
    "# File path of the model or data\n",
    "file_path = \"../models/model-2.pt\" # Just an extra \".\" at the end\n",
    "\n",
    "# Compute SHA-256 hash\n",
    "with open(file_path, \"rb\") as f:\n",
    "    data = f.read()\n",
    "    hash_value = hashlib.sha256(data).hexdigest()\n",
    "\n",
    "print(f\"SHA-256 hash: {hash_value}\")"
   ]
  }
 ],
 "metadata": {
  "kernelspec": {
   "display_name": "Python 3",
   "language": "python",
   "name": "python3"
  },
  "language_info": {
   "codemirror_mode": {
    "name": "ipython",
    "version": 3
   },
   "file_extension": ".py",
   "mimetype": "text/x-python",
   "name": "python",
   "nbconvert_exporter": "python",
   "pygments_lexer": "ipython3",
   "version": "3.11.13"
  }
 },
 "nbformat": 4,
 "nbformat_minor": 5
}
