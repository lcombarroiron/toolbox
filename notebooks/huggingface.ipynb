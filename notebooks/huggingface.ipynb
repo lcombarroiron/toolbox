{
 "cells": [
  {
   "cell_type": "code",
   "execution_count": 1,
   "id": "0da9a456",
   "metadata": {},
   "outputs": [
    {
     "data": {
      "text/plain": [
       "True"
      ]
     },
     "execution_count": 1,
     "metadata": {},
     "output_type": "execute_result"
    }
   ],
   "source": [
    "import os\n",
    "from dotenv import load_dotenv\n",
    "from huggingface_hub import InferenceClient\n",
    "\n",
    "# Carga las variables del archivo .env a os.environ\n",
    "load_dotenv()\n",
    "\n",
    "# Ahora tu código original funcionará porque 'HF_TOKEN' ya existe\n",
    "client = InferenceClient(\n",
    "    provider=\"fal-ai\",\n",
    "    api_key=os.environ[\"HF_TOKEN\"],\n",
    ")\n",
    "\n",
    "image = client.text_to_image(\n",
    "    \"A cyberpunk street scene at night\",\n",
    "    model=\"black-forest-labs/FLUX.1-dev\",\n",
    ")"
   ]
  },
  {
   "cell_type": "code",
   "execution_count": null,
   "id": "6252cace",
   "metadata": {},
   "outputs": [],
   "source": [
    "client = InferenceClient(\n",
    "    provider=\"fal-ai\",\n",
    "    api_key=os.environ[\"HF_TOKEN\"],\n",
    ")\n",
    "\n",
    "# output is a PIL.Image object\n",
    "image = client.text_to_image(\n",
    "    \"A cyberpunk street scene at night\",\n",
    "    model=\"black-forest-labs/FLUX.1-dev\",\n",
    ")"
   ]
  }
 ],
 "metadata": {
  "kernelspec": {
   "display_name": "Python 3",
   "language": "python",
   "name": "python3"
  },
  "language_info": {
   "codemirror_mode": {
    "name": "ipython",
    "version": 3
   },
   "file_extension": ".py",
   "mimetype": "text/x-python",
   "name": "python",
   "nbconvert_exporter": "python",
   "pygments_lexer": "ipython3",
   "version": "3.11.13"
  }
 },
 "nbformat": 4,
 "nbformat_minor": 5
}
